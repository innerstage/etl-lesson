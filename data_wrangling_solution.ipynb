{
 "cells": [
  {
   "cell_type": "code",
   "execution_count": null,
   "metadata": {},
   "outputs": [],
   "source": [
    "import pandas as pd\n",
    "import calendar"
   ]
  },
  {
   "cell_type": "code",
   "execution_count": null,
   "metadata": {},
   "outputs": [],
   "source": [
    "# 0. Read file\n",
    "\n",
    "params = {\"trade_flow\": \"EXP\", \"year\": \"2020\"}\n",
    "\n",
    "df = pd.read_csv(\"data/Wakanda_{}_{}.csv\".format(params[\"trade_flow\"], params[\"year\"]))\n",
    "df.head()"
   ]
  },
  {
   "cell_type": "code",
   "execution_count": null,
   "metadata": {},
   "outputs": [],
   "source": [
    "# 1. Change order of columns\n",
    "\n",
    "cols = list(df.columns)\n",
    "cols = [cols[-1]] + cols[:-1]\n",
    "df = df[cols]\n",
    "df.head()\n",
    "\n",
    "# Other way\n",
    "#df = df[[\n",
    "#    \"ORIGIN_OR_DESTINATION\",\"JANUARY\",\"FEBRUARY\",\"MARCH\",\"APRIL\",\"MAY\",\n",
    "#    \"JUNE\",\"JULY\",\"AUGUST\",\"SEPTEMBER\",\"OCTOBER\",\"NOVEMBER\",\"DECEMBER\"\n",
    "#]]\n",
    "#df.head()"
   ]
  },
  {
   "cell_type": "code",
   "execution_count": null,
   "metadata": {},
   "outputs": [],
   "source": [
    "# 2. Melt Months\n",
    "\n",
    "month_list = [m.upper() for m in calendar.month_name[1:]]\n",
    "df = df.melt(id_vars=[\"ORIGIN_OR_DESTINATION\"], value_vars=month_list, var_name=\"month\", value_name=\"total\")\n",
    "df.head()"
   ]
  },
  {
   "cell_type": "code",
   "execution_count": null,
   "metadata": {},
   "outputs": [],
   "source": [
    "# 3. Change column names\n",
    "\n",
    "df = df.rename(columns={\"ORIGIN_OR_DESTINATION\": \"country\"})\n",
    "df.head()"
   ]
  },
  {
   "cell_type": "code",
   "execution_count": null,
   "metadata": {},
   "outputs": [],
   "source": [
    "# 4. Drop NaN values\n",
    "\n",
    "df = df.dropna()\n",
    "df.isnull().any()"
   ]
  },
  {
   "cell_type": "code",
   "execution_count": null,
   "metadata": {},
   "outputs": [],
   "source": [
    "# 5. Map country names to ISO3\n",
    "\n",
    "country_df = pd.read_csv(\"resources/country_iso3_codes.csv\")\n",
    "country_map = {k:v for (k,v) in zip(country_df[\"country_name\"], country_df[\"country_iso3\"])}\n",
    "df[\"country\"] = df[\"country\"].map(country_map).str.lower()\n",
    "df.head()"
   ]
  },
  {
   "cell_type": "code",
   "execution_count": null,
   "metadata": {},
   "outputs": [],
   "source": [
    "# 6. Map month names to numeric\n",
    "\n",
    "month_list = [m.upper() for m in calendar.month_name]\n",
    "month_map = {month_list[i]: i for i in range(1,13)}\n",
    "df[\"month\"] = df[\"month\"].map(month_map)\n",
    "df.head()"
   ]
  },
  {
   "cell_type": "code",
   "execution_count": null,
   "metadata": {},
   "outputs": [],
   "source": [
    "# 7. Create trade flow column\n",
    "\n",
    "flow_map = {\"IMP\": 1, \"EXP\": 2}\n",
    "df[\"trade_flow\"] = flow_map[params[\"trade_flow\"]]\n",
    "df.head()"
   ]
  },
  {
   "cell_type": "code",
   "execution_count": null,
   "metadata": {},
   "outputs": [],
   "source": [
    "# 8. Create year column and time_id column\n",
    "\n",
    "df[\"year\"] = params[\"year\"]\n",
    "df[\"time_id\"] = (df[\"year\"] + df[\"month\"].astype(str).str.zfill(2)).astype(int)\n",
    "df = df[[\"time_id\", \"country\", \"trade_flow\", \"total\"]]\n",
    "df.head()"
   ]
  }
 ],
 "metadata": {
  "kernelspec": {
   "display_name": "Python 3",
   "language": "python",
   "name": "python3"
  },
  "language_info": {
   "codemirror_mode": {
    "name": "ipython",
    "version": 3
   },
   "file_extension": ".py",
   "mimetype": "text/x-python",
   "name": "python",
   "nbconvert_exporter": "python",
   "pygments_lexer": "ipython3",
   "version": "3.7.0"
  }
 },
 "nbformat": 4,
 "nbformat_minor": 2
}
