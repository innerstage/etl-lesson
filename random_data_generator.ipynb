{
 "cells": [
  {
   "cell_type": "code",
   "execution_count": null,
   "metadata": {},
   "outputs": [],
   "source": [
    "import pandas as pd\n",
    "import calendar\n",
    "\n",
    "def generate_data(flow, year):\n",
    "    N = 250\n",
    "    country_df = pd.read_csv(\"resources/country_iso3_codes.csv\")\n",
    "    month_list = calendar.month_name[1:]\n",
    "\n",
    "    countries = [np.random.choice(country_df[\"country_name\"]) for i in range(N)]\n",
    "    values = [np.random.choice([a for a in range(10000)]+1000*[np.nan]) for i in range(N)]\n",
    "\n",
    "    df = pd.DataFrame({k.upper(): [np.random.choice([a for a in range(10000)]+1000*[np.nan]) for i in range(N)] for k in month_list})\n",
    "    df[\"ORIGIN_OR_DESTINATION\"] = countries\n",
    "\n",
    "    filename = \"data/Wakanda_{}_{}.csv\".format(flow, year)\n",
    "\n",
    "    df.to_csv(filename, index=False)\n",
    "    \n",
    "    return filename\n",
    "    \n",
    "\n",
    "for f in [\"EXP\", \"IMP\"]:\n",
    "    for y in [str(y) for y in range(2020, 2026)]:\n",
    "        print(generate_data(f,y))\n",
    "\n"
   ]
  }
 ],
 "metadata": {
  "kernelspec": {
   "display_name": "Python 3",
   "language": "python",
   "name": "python3"
  },
  "language_info": {
   "codemirror_mode": {
    "name": "ipython",
    "version": 3
   },
   "file_extension": ".py",
   "mimetype": "text/x-python",
   "name": "python",
   "nbconvert_exporter": "python",
   "pygments_lexer": "ipython3",
   "version": "3.7.0"
  }
 },
 "nbformat": 4,
 "nbformat_minor": 2
}
