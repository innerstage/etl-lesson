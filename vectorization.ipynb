{
 "cells": [
  {
   "cell_type": "code",
   "execution_count": null,
   "metadata": {},
   "outputs": [],
   "source": [
    "import pandas as pd\n",
    "import numpy as np\n",
    "\n",
    "N = 2500\n",
    "years = [np.random.choice([y for y in range(2000,2021)]) for i in range(N)]\n",
    "months = [np.random.choice([m for m in range(1,13)]) for i in range(N)]\n",
    "\n",
    "df1 = pd.DataFrame({\"year\": years, \"month\": months})\n",
    "df2 = pd.DataFrame({\"year\": years, \"month\": months})\n",
    "\n",
    "df1.head()"
   ]
  },
  {
   "cell_type": "code",
   "execution_count": null,
   "metadata": {},
   "outputs": [],
   "source": [
    "#%%timeit\n",
    "\n",
    "time_ids = []\n",
    "\n",
    "for index, row in df1.iterrows():\n",
    "    row_year = str(df1.iloc[index][\"year\"])\n",
    "    row_month = str(df1.iloc[index][\"month\"])\n",
    "    time_ids.append(row_year + row_month.zfill(2))\n",
    "\n",
    "df1[\"time_id\"] = time_ids\n",
    "\n",
    "df1.head()"
   ]
  },
  {
   "cell_type": "code",
   "execution_count": null,
   "metadata": {},
   "outputs": [],
   "source": [
    "#%%timeit\n",
    "\n",
    "df2[\"time_id\"] = df2[\"year\"].astype(str) + df2[\"month\"].astype(str).str.zfill(2)\n",
    "df2.head()"
   ]
  }
 ],
 "metadata": {
  "kernelspec": {
   "display_name": "Python 3",
   "language": "python",
   "name": "python3"
  },
  "language_info": {
   "codemirror_mode": {
    "name": "ipython",
    "version": 3
   },
   "file_extension": ".py",
   "mimetype": "text/x-python",
   "name": "python",
   "nbconvert_exporter": "python",
   "pygments_lexer": "ipython3",
   "version": "3.7.0"
  }
 },
 "nbformat": 4,
 "nbformat_minor": 2
}
